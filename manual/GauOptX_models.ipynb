{
 "cells": [
  {
   "cell_type": "markdown",
   "metadata": {},
   "source": [
    "# GauOptX: available surrogate models and acquisitions"
   ]
  },
  {
   "cell_type": "markdown",
   "metadata": {},
   "source": [
    "### 1. Supported models\n",
    "\n",
    "The surrogate models supported in GauOptX are:\n",
    "\n",
    "* **Standard Gaussian Processes** with standard MLE over the model hyperparameters: select ``model_type = GP`` in the GauOptX wrapper.\n",
    "\n",
    "* **Standard Gaussian Processes with MCMC** sampling over the model hyperparameters: select ``model_type = GP_MCMC`` in the GauOptX wrapper.\n",
    "\n",
    "\n",
    "* **Sparse Gaussian processes**: select ``model_type = sparseGP`` in the GauOptX wrapper. \n",
    "\n",
    "\n",
    "* **Random Forest**: select ``model_type = RF``. To illustrate GauOptX modularity, we have also wrapped the random forrest method implemetented in Scikit-learn."
   ]
  },
  {
   "cell_type": "markdown",
   "metadata": {},
   "source": [
    "### 2. Supported acquisitions\n",
    "\n",
    "The supported acquisition functions in GauOptX are:\n",
    "\n",
    "* **Expected Improvement**: select ``acquisition_type = EI`` in the GauOptX wrapper.\n",
    "\n",
    "\n",
    "* **Expected Improvement integrated over the model hyperparameters**: select ``acquisition_type = EI_MCMC`` in the GauOptX wrapper. Only works if ``model_type`` is set to ``GP_MCMC``.\n",
    "\n",
    "\n",
    "* **Maximum Probability of Improvement**: select ``acquisition_type = MPI`` in the GauOptX wrapper.\n",
    "\n",
    "\n",
    "* **Maximum Probability of Improvement integrated over the model hyperparameters**: select ``acquisition_type = MPI_MCMC`` in the GauOptX wrapper. Only works if ``model_type`` is set to ``GP_MCMC``.\n",
    "\n",
    "\n",
    "* **GP-Lower confidence bound**: select ``acquisition_type = LCB`` in the GauOptX wrapper.\n",
    "\n",
    "\n",
    "* **GP-Lower confidence bound integrated over the model hyperparameters**: select ``acquisition_type = LCB_MCMC`` in the GauOptX wrapper. Only works if ``model_type`` is set to ``GP_MCMC``.\n",
    "\n",
    "\n"
   ]
  }
 ],
 "metadata": {
  "kernelspec": {
   "display_name": "Python 3",
   "language": "python",
   "name": "python3"
  },
  "language_info": {
   "codemirror_mode": {
    "name": "ipython",
    "version": 3
   },
   "file_extension": ".py",
   "mimetype": "text/x-python",
   "name": "python",
   "nbconvert_exporter": "python",
   "pygments_lexer": "ipython3",
   "version": "3.6.1"
  }
 },
 "nbformat": 4,
 "nbformat_minor": 1
}
