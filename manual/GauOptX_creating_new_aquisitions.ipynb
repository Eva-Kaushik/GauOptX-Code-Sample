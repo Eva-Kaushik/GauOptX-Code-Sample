{
 "cells": [
  {
   "cell_type": "markdown",
   "metadata": {},
   "source": [
    "# Creating new acquisitions for GauOptX"
   ]
  },
  {
   "cell_type": "markdown",
   "metadata": {},
   "source": [
    "You can create and use your own aquisition functions in GauOptX. To do it just complete the following template."
   ]
  },
  {
   "cell_type": "code",
   "execution_count": 1,
   "metadata": {
    "collapsed": false
   },
   "outputs": [],
   "source": [
    "from GauOptX.acquisitions.base import AcquisitionBase\n",
    "from GauOptX.core.task.cost import constant_cost_withGradients\n",
    "\n",
    "class AcquisitionNew(AcquisitionBase):\n",
    "    \"\"\"\n",
    "    A template for defining a custom acquisition function within the GauOptX framework.\n",
    "\n",
    "    :param model: A probabilistic model from GauOptX.\n",
    "    :param space: The domain or search space where optimization is performed.\n",
    "    :param optimizer: The optimizer used for maximizing the acquisition function.\n",
    "    :param cost_withGradients: A function that calculates the evaluation cost and its gradients (optional).\n",
    "    \"\"\"\n",
    "\n",
    "    # Set this to True if the acquisition function has analytical gradients available.\n",
    "    analytical_gradient_prediction = False\n",
    "\n",
    "    def __init__(self, model, space, optimizer, cost_withGradients=None, **kwargs):\n",
    "        self.optimizer = optimizer\n",
    "        super(AcquisitionNew, self).__init__(model, space, optimizer)\n",
    "        \n",
    "        # Uncomment one of the following sections based on whether evaluation costs are relevant:\n",
    "        \n",
    "        # 1) If incorporating evaluation costs is meaningful:\n",
    "        # if cost_withGradients is None:\n",
    "        #     self.cost_withGradients = constant_cost_withGradients\n",
    "        # else:\n",
    "        #     self.cost_withGradients = cost_withGradients\n",
    "\n",
    "        # 2) If evaluation costs are not relevant:\n",
    "        # if cost_withGradients is None:\n",
    "        #     self.cost_withGradients = constant_cost_withGradients\n",
    "        # else:\n",
    "        #     print('Warning: This acquisition function does not work with evaluation costs. Defaulting to constant cost.')  \n",
    "        #     self.cost_withGradients = constant_cost_withGradients\n",
    "\n",
    "    def _compute_acq(self, x):\n",
    "        \"\"\"\n",
    "        Define the new acquisition function here. This function is optimized during the process.\n",
    "\n",
    "        :param x: A 2D numpy array where each row corresponds to a point in the domain.\n",
    "        :return: A column vector (numpy array) with the values of the acquisition function at each point.\n",
    "        \"\"\"\n",
    "        # Compute the acquisition values at the given points.\n",
    "        return f_acqu_x\n",
    "\n",
    "    def _compute_acq_withGradients(self, x):\n",
    "        \"\"\"\n",
    "        Define both the acquisition function and its gradients here (if available).\n",
    "\n",
    "        :param x: A 2D numpy array where each row corresponds to a point in the domain.\n",
    "        :return: A tuple containing:\n",
    "            - f_acqu_x: Column vector with the acquisition values at each point.\n",
    "            - df_acqu_x: Matrix where each row contains the gradients of the acquisition at a given point.\n",
    "        \n",
    "        Note: If this method is not implemented, numerical approximation will be used for gradients.\n",
    "        \"\"\"\n",
    "        # Compute both acquisition values and their gradients at the given points.\n",
    "        return f_acqu_x, df_acqu_x\n"
   ]
  }
 ],
 "metadata": {
  "anaconda-cloud": {},
  "kernelspec": {
   "display_name": "Python 3",
   "language": "python",
   "name": "python3"
  },
  "language_info": {
   "codemirror_mode": {
    "name": "ipython",
    "version": 3
   },
   "file_extension": ".py",
   "mimetype": "text/x-python",
   "name": "python",
   "nbconvert_exporter": "python",
   "pygments_lexer": "ipython3",
   "version": "3.5.2"
  }
 },
 "nbformat": 4,
 "nbformat_minor": 0
}
