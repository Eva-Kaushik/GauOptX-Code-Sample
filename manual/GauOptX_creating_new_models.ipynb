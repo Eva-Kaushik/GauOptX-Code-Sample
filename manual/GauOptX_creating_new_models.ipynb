{
 "cells": [
  {
   "cell_type": "markdown",
   "metadata": {},
   "source": [
    "#### Creating new surrogate models for GauOptX\n"
   ]
  },
  {
   "cell_type": "markdown",
   "metadata": {},
   "source": [
    "You can create and use your own surrogate models functions in GauOptX. To do it just complete the following template."
   ]
  },
  {
   "cell_type": "code",
   "execution_count": null,
   "metadata": {},
   "outputs": [],
   "source": [
    "from GauOptX.models.base import SurrogateModel\n",
    "import numpy as np\n",
    "\n",
    "class NewModel(SurrogateModel):\n",
    "    \"\"\"\n",
    "    Template for creating a new surrogate model for Bayesian Optimization in GauOptX.\n",
    "\n",
    "    :param normalize_Y: Indicates whether the model should normalize the output values (default: True).\n",
    "    \"\"\"\n",
    "\n",
    "    # Set this attribute to True if the model supports analytical gradients for predictions.\n",
    "    analytical_gradient_prediction = False\n",
    "\n",
    "    def __init__(self, normalize_Y=True, **kwargs):\n",
    "        \"\"\"\n",
    "        Initializes the surrogate model with optional normalization of outputs.\n",
    "        Additional parameters for the model can be added as needed.\n",
    "\n",
    "        :param normalize_Y: Whether to normalize the output data.\n",
    "        \"\"\"\n",
    "        self.normalize_Y = normalize_Y  # Flag for output normalization\n",
    "        self.model = None  # Placeholder for the actual surrogate model instance\n",
    "\n",
    "    def _create_model(self, X, Y):\n",
    "        \"\"\"\n",
    "        Initializes the surrogate model using input data (X, Y).\n",
    "\n",
    "        :param X: Input data (numpy array of shape [n_samples, n_features]).\n",
    "        :param Y: Output data (numpy array of shape [n_samples, 1]).\n",
    "        \"\"\"\n",
    "        self.X = X\n",
    "        self.Y = Y\n",
    "        \n",
    "        # Define and create the actual GauOptX-compatible model here based on X and Y.\n",
    "        # Example: self.model = SomeGauOptXModel(X, Y, **model_parameters)\n",
    "        pass\n",
    "\n",
    "    def update_model(self, X_all, Y_all, X_new=None, Y_new=None):\n",
    "        \"\"\"\n",
    "        Updates the model with all available observations, including optional new data points.\n",
    "\n",
    "        :param X_all: All input data observed so far (numpy array).\n",
    "        :param Y_all: All output data observed so far (numpy array).\n",
    "        :param X_new: (Optional) New input data points (numpy array).\n",
    "        :param Y_new: (Optional) New output data points (numpy array).\n",
    "        \"\"\"\n",
    "        self.X = X_all\n",
    "        self.Y = Y_all\n",
    "\n",
    "        # Normalize output data if the option is enabled\n",
    "        if self.normalize_Y:\n",
    "            Y_all = (Y_all - Y_all.mean()) / Y_all.std()\n",
    "\n",
    "        # If the model doesn't exist, create it. Otherwise, update the model.\n",
    "        if self.model is None:\n",
    "            self._create_model(X_all, Y_all)\n",
    "        else:\n",
    "            # Update the model with new data and re-tune hyperparameters here.\n",
    "            # Example: self.model.update(X_new, Y_new)\n",
    "            pass\n",
    "\n",
    "    def predict(self, X):\n",
    "        \"\"\"\n",
    "        Makes predictions for new inputs using the surrogate model.\n",
    "\n",
    "        :param X: Input data for predictions (numpy array of shape [n_samples, n_features]).\n",
    "        :return: \n",
    "            - m: Predicted mean values for the inputs (numpy array of shape [n_samples, 1]).\n",
    "            - s: Predicted standard deviations for the inputs (numpy array of shape [n_samples, 1]).\n",
    "        \"\"\"\n",
    "        # Replace the following lines with the actual model prediction logic.\n",
    "        # Example: m, s = self.model.predict(X)\n",
    "        return m, s\n",
    "\n",
    "    def get_fmin(self):\n",
    "        \"\"\"\n",
    "        Retrieves the minimum predicted value from the surrogate model for the observed data.\n",
    "\n",
    "        :return: Minimum value predicted by the model.\n",
    "        \"\"\"\n",
    "        return self.model.predict(self.X).min()\n"
   ]
  }
 ],
 "metadata": {
  "kernelspec": {
   "display_name": "Python 3",
   "language": "python",
   "name": "python3"
  },
  "language_info": {
   "codemirror_mode": {
    "name": "ipython",
    "version": 3
   },
   "file_extension": ".py",
   "mimetype": "text/x-python",
   "name": "python",
   "nbconvert_exporter": "python",
   "pygments_lexer": "ipython3",
   "version": "3.6.5"
  }
 },
 "nbformat": 4,
 "nbformat_minor": 1
}
